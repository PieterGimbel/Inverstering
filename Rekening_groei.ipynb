{
 "cells": [
  {
   "cell_type": "code",
   "execution_count": 4,
   "metadata": {
    "scrolled": false
   },
   "outputs": [
    {
     "name": "stdout",
     "output_type": "stream",
     "text": [
      "inversterin... = inversteringsduur\n"
     ]
    },
    {
     "data": {
      "application/vnd.jupyter.widget-view+json": {
       "model_id": "e790f84165a040e0948d2679f6e1279f",
       "version_major": 2,
       "version_minor": 0
      },
      "text/plain": [
       "interactive(children=(IntSlider(value=65, description='leeftijd'), IntSlider(value=1000, description='start', …"
      ]
     },
     "metadata": {},
     "output_type": "display_data"
    }
   ],
   "source": [
    "import matplotlib.ticker as ticker\n",
    "import numpy as np\n",
    "import matplotlib.pyplot as plt\n",
    "from ipywidgets import *\n",
    "\n",
    "plt.rcParams['figure.figsize'] = [12,7] \n",
    "print('inversterin... = inversteringsduur' )\n",
    "\n",
    "def update(leeftijd=65,start = 1000, rente = 10,inversteringsduur = 20):\n",
    "    geld = start\n",
    "    mgeld = [start]\n",
    "    jaar = np.linspace(0,leeftijd,leeftijd+1)\n",
    "    \n",
    "    for i in range (1,leeftijd+1):\n",
    "        geld = geld*(1+(rente/100))\n",
    "        if i < (inversteringsduur+1):\n",
    "            geld = geld+1000\n",
    "        mgeld.append(geld)\n",
    "        \n",
    "       \n",
    "    fig,ax = plt.subplots()\n",
    "    fmt = '${x:,.0f}'\n",
    "    tick = ticker.StrMethodFormatter(fmt)\n",
    "    ax.yaxis.set_major_formatter(tick)\n",
    "    plt.plot(jaar,mgeld)\n",
    "    plt.locator_params(axis='y', nbins=11)\n",
    "#     plt.locator_params(axis='x', nbins=10)\n",
    "    plt.grid()\n",
    "\n",
    "interact(update, leeftijd=(0,100,1), start=(0,20000,1000),rente=(0,20,1),inversteringsduur = (0,100,1))\n",
    "plt.show()\n"
   ]
  },
  {
   "cell_type": "code",
   "execution_count": null,
   "metadata": {},
   "outputs": [],
   "source": []
  }
 ],
 "metadata": {
  "kernelspec": {
   "display_name": "Python 3",
   "language": "python",
   "name": "python3"
  },
  "language_info": {
   "codemirror_mode": {
    "name": "ipython",
    "version": 3
   },
   "file_extension": ".py",
   "mimetype": "text/x-python",
   "name": "python",
   "nbconvert_exporter": "python",
   "pygments_lexer": "ipython3",
   "version": "3.6.5"
  }
 },
 "nbformat": 4,
 "nbformat_minor": 2
}
